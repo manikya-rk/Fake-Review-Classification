{
 "cells": [
  {
   "cell_type": "code",
   "execution_count": 1,
   "id": "d739a626",
   "metadata": {},
   "outputs": [
    {
     "name": "stdout",
     "output_type": "stream",
     "text": [
      "Enter the review text: good\n",
      "The review is classified as: CG\n",
      "Accuracy: 92.10%\n"
     ]
    }
   ],
   "source": [
    "import pandas as pd\n",
    "\n",
    "# Load the dataset\n",
    "df = pd.read_csv('fake reviews dataset.csv')\n",
    "# Map the labels to binary values: 1 for fake (CG) and 0 for genuine (OR)\n",
    "df['label'] = df['label'].map({'CG': 1, 'OR': 0})\n",
    "\n",
    "# Verify the mapping\n",
    "df['label'].value_counts()\n",
    "from sklearn.model_selection import train_test_split\n",
    "from sklearn.feature_extraction.text import TfidfVectorizer\n",
    "from sklearn.metrics import accuracy_score\n",
    "from sklearn.linear_model import LogisticRegression\n",
    "\n",
    "# Define the feature (X) and target (y) variables\n",
    "X = df['text_']  # The review text\n",
    "y = df['label']  # The labels\n",
    "\n",
    "# Split the data into training and testing sets (80% train, 20% test)\n",
    "X_train, X_test, y_train, y_test = train_test_split(X, y, test_size=0.01, random_state=42)\n",
    "\n",
    "# Convert the text data into TF-IDF features\n",
    "vectorizer = TfidfVectorizer(max_features=5000)\n",
    "X_train_tfidf = vectorizer.fit_transform(X_train)\n",
    "X_test_tfidf = vectorizer.transform(X_test)\n",
    "\n",
    "# Check the shape of the transformed data\n",
    "X_train_tfidf.shape, X_test_tfidf.shape\n",
    "\n",
    "\n",
    "# Initialize the Logistic Regression model\n",
    "model = LogisticRegression(max_iter=1000)\n",
    "\n",
    "# Train the model\n",
    "model.fit(X_train_tfidf, y_train)\n",
    "\n",
    "# Function to predict whether a review is fake or genuine using Logistic Regression\n",
    "def predict_review(review_text):\n",
    "    # Transform the review text using the TF-IDF vectorizer\n",
    "    review_tfidf = vectorizer.transform([review_text])\n",
    "    \n",
    "    # Predict the label using the trained model\n",
    "    prediction = model.predict(review_tfidf)\n",
    "    \n",
    "    # Map the prediction back to the original labels\n",
    "    label = 'CG' if prediction[0] == 1 else 'OR'\n",
    "    \n",
    "    return label\n",
    "\n",
    "# Get user input\n",
    "user_review = input(\"Enter the review text: \")\n",
    "\n",
    "# Predict and display the result\n",
    "result = predict_review(user_review)\n",
    "print(f'The review is classified as: {result}')\n",
    "y_pred = model.predict(X_test_tfidf)\n",
    "\n",
    "# Evaluate the model's performance\n",
    "accuracy = accuracy_score(y_test, y_pred)\n",
    "print(f'Accuracy: {accuracy * 100:.2f}%')"
   ]
  },
  {
   "cell_type": "code",
   "execution_count": null,
   "id": "434faf2e",
   "metadata": {},
   "outputs": [],
   "source": []
  }
 ],
 "metadata": {
  "kernelspec": {
   "display_name": "Python 3 (ipykernel)",
   "language": "python",
   "name": "python3"
  },
  "language_info": {
   "codemirror_mode": {
    "name": "ipython",
    "version": 3
   },
   "file_extension": ".py",
   "mimetype": "text/x-python",
   "name": "python",
   "nbconvert_exporter": "python",
   "pygments_lexer": "ipython3",
   "version": "3.11.5"
  }
 },
 "nbformat": 4,
 "nbformat_minor": 5
}
